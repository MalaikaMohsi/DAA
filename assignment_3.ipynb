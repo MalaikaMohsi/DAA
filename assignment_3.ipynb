{
  "nbformat": 4,
  "nbformat_minor": 0,
  "metadata": {
    "colab": {
      "provenance": []
    },
    "kernelspec": {
      "name": "python3",
      "display_name": "Python 3"
    },
    "language_info": {
      "name": "python"
    }
  },
  "cells": [
    {
      "cell_type": "markdown",
      "source": [
        "**Depth First Search (DFS):**"
      ],
      "metadata": {
        "id": "4NYM-flGzal2"
      }
    },
    {
      "cell_type": "code",
      "execution_count": null,
      "metadata": {
        "id": "tpr576cXzKVN"
      },
      "outputs": [],
      "source": [
        "def dfs(graph, start, visited=None):\n",
        "    if visited is None:\n",
        "        visited = set()\n",
        "    visited.add(start)\n",
        "    print(start, end=' ')\n",
        "    for neighbor in graph[start]:\n",
        "        if neighbor not in visited:\n",
        "            dfs(graph, neighbor, visited)\n",
        "\n",
        "# Example usage:\n",
        "graph = {\n",
        "    'A': ['B', 'C'],\n",
        "    'B': ['D', 'E'],\n",
        "    'C': ['F'],\n",
        "    'D': [],\n",
        "    'E': ['F'],\n",
        "    'F': []\n",
        "}\n",
        "\n",
        "print(\"DFS traversal:\")\n",
        "dfs(graph, 'A')\n"
      ]
    },
    {
      "cell_type": "markdown",
      "source": [
        "**Time Complexity:**\n",
        "O(V + E), where V is the number of vertices and E is the number of edges in the graph"
      ],
      "metadata": {
        "id": "b1xC8svVzOgY"
      }
    },
    {
      "cell_type": "markdown",
      "source": [
        "**Breadth First Search (BFS)**"
      ],
      "metadata": {
        "id": "ja_jyu0Iz_ax"
      }
    },
    {
      "cell_type": "code",
      "source": [
        "from collections import deque\n",
        "\n",
        "def bfs(graph, start):\n",
        "    visited = set()\n",
        "    queue = deque([start])\n",
        "    visited.add(start)\n",
        "    while queue:\n",
        "        vertex = queue.popleft()\n",
        "        print(vertex, end=' ')\n",
        "        for neighbor in graph[vertex]:\n",
        "            if neighbor not in visited:\n",
        "                visited.add(neighbor)\n",
        "                queue.append(neighbor)\n",
        "\n",
        "# Example usage:\n",
        "graph = {\n",
        "    'A': ['B', 'C'],\n",
        "    'B': ['D', 'E'],\n",
        "    'C': ['F'],\n",
        "    'D': [],\n",
        "    'E': ['F'],\n",
        "    'F': []\n",
        "}\n",
        "\n",
        "print(\"BFS traversal:\")\n",
        "bfs(graph, 'A')\n"
      ],
      "metadata": {
        "id": "Rsjui4iX0H2x"
      },
      "execution_count": null,
      "outputs": []
    },
    {
      "cell_type": "markdown",
      "source": [
        "**Time Complexity:** O(V + E), where V is the number of vertices and E is the number of edges in the graph.\n",
        "\n"
      ],
      "metadata": {
        "id": "Ay7W3MyL0Ldw"
      }
    },
    {
      "cell_type": "markdown",
      "source": [
        "**Dijkstra's Algorithm:**"
      ],
      "metadata": {
        "id": "tS9I46qy0VMo"
      }
    },
    {
      "cell_type": "code",
      "source": [
        "import heapq\n",
        "\n",
        "def dijkstra(graph, start):\n",
        "    # Initialize distances with infinity for all nodes\n",
        "    distances = {node: float('inf') for node in graph}\n",
        "    distances[start] = 0\n",
        "\n",
        "    # Priority queue to store nodes with their current distances\n",
        "    priority_queue = [(0, start)]\n",
        "\n",
        "    while priority_queue:\n",
        "        current_distance, current_node = heapq.heappop(priority_queue)\n",
        "\n",
        "        # Skip if current distance is greater than the known distance\n",
        "        if current_distance > distances[current_node]:\n",
        "            continue\n",
        "\n",
        "        for neighbor, weight in graph[current_node].items():\n",
        "            distance = current_distance + weight\n",
        "            # Update the distance if a shorter path is found\n",
        "            if distance < distances[neighbor]:\n",
        "                distances[neighbor] = distance\n",
        "                heapq.heappush(priority_queue, (distance, neighbor))\n",
        "\n",
        "    return distances\n",
        "\n",
        "# Example usage:\n",
        "graph = {\n",
        "    'A': {'B': 3, 'C': 1},\n",
        "    'B': {'A': 3, 'C': 7, 'D': 5},\n",
        "    'C': {'A': 1, 'B': 7, 'D': 2},\n",
        "    'D': {'B': 5, 'C': 2}\n",
        "}\n",
        "start_node = 'A'\n",
        "print(dijkstra(graph, start_node))\n"
      ],
      "metadata": {
        "id": "KJYh9v_T0fJJ"
      },
      "execution_count": null,
      "outputs": []
    },
    {
      "cell_type": "markdown",
      "source": [
        "**Time Complexity:**\n",
        "This implementation uses a priority queue to efficiently select the node with the shortest distance. The time complexity of Dijkstra's algorithm using a binary heap priority queue is O((V + E) log V), where V is the number of vertices and E is the number of edges in the graph. In the worst case, each edge is processed once and each node is added to and extracted from the priority queue once, which gives the logarithmic factor in the time complexity."
      ],
      "metadata": {
        "id": "7sLijaWX33Q4"
      }
    }
  ]
}